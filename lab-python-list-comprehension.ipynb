{
 "cells": [
  {
   "cell_type": "markdown",
   "id": "25d7736c-ba17-4aff-b6bb-66eba20fbf4e",
   "metadata": {},
   "source": [
    "# Lab | List, Dict and Set Comprehension"
   ]
  },
  {
   "cell_type": "markdown",
   "id": "7dd3cbde-675a-4b81-92c3-f728846dbe06",
   "metadata": {},
   "source": [
    "## Exercise: Managing Customer Orders Optimized with Comprehension"
   ]
  },
  {
   "cell_type": "code",
   "execution_count": null,
   "id": "ab6e3026-4b04-4f57-a3d4-98c68c42d591",
   "metadata": {},
   "outputs": [],
   "source": [
    "In the previous exercise, you developed a program to manage customer orders and inventory. Now, let's take it a step further and incorporate comprehension into your code.\n",
    "\n",
    "Follow the steps below to complete the exercise:\n",
    "\n",
    "1. Review your code from the previous exercise and identify areas where you can apply comprehension to simplify and streamline your code. \n",
    "\n",
    "    - *Hint: Apply it to initialize inventory, updating the inventory and printing the updated inventory.*\n",
    "    \n",
    "    - For example, in initializing the inventory, we could have:\n",
    "    \n",
    "        ```python\n",
    "        def initialize_inventory(products):\n",
    "            inventory = {product: int(input(f\"Enter the quantity of {product}s available: \")) for product in products}\n",
    "            return inventory\n",
    "\n",
    "        ```\n",
    "<br>\n",
    "    \n",
    "    \n",
    "2. Modify the function get_customer_orders so it prompts the user to enter the number of customer orders and gathers the product names using a loop and user input. Use comprehension.\n",
    "\n",
    "3. Add a new function to calculate the total price of the customer order. For each product in customer_orders, prompt the user to enter the price of that product. Use comprehension to calculate the total price. Note: assume that the user can only have 1 unit of each product.\n",
    "\n",
    "4. Modify the update_inventory function to remove the product from the inventory if its quantity becomes zero after fulfilling the customer orders. Use comprehension to filter out the products with a quantity of zero from the inventory.\n",
    "\n",
    "5. Print the total price of the customer order.\n",
    "\n",
    "Your code should produce output similar to the following:\n",
    "\n",
    "```python\n",
    "Enter the quantity of t-shirts available:  5\n",
    "Enter the quantity of mugs available:  4\n",
    "Enter the quantity of hats available:  3\n",
    "Enter the quantity of books available:  2\n",
    "Enter the quantity of keychains available:  1\n",
    "Enter the number of customer orders:  2\n",
    "Enter the name of a product that a customer wants to order:  hat\n",
    "Enter the name of a product that a customer wants to order:  keychain\n",
    "\n",
    "Order Statistics:\n",
    "Total Products Ordered: 2\n",
    "Percentage of Unique Products Ordered: 40.0\n",
    "\n",
    "Updated Inventory:\n",
    "t-shirt: 5\n",
    "mug: 4\n",
    "hat: 2\n",
    "book: 2\n",
    "Enter the price of keychain:  5\n",
    "Enter the price of hat:  10\n",
    "Total Price: 15.0\n",
    "\n",
    "```\n"
   ]
  },
  {
   "cell_type": "code",
   "execution_count": 42,
   "id": "97d078c2-cf44-40f2-b569-5865b49dd6d2",
   "metadata": {},
   "outputs": [],
   "source": [
    "def initialize_inventory(products):\n",
    "    inventory = {product: int(input(f\"Enter the quantity of {product}s available: \")) for product in products}\n",
    "    return inventory"
   ]
  },
  {
   "cell_type": "markdown",
   "id": "cf13cb66-a755-4594-af78-a8cb0e1c65f5",
   "metadata": {},
   "source": [
    "### 2. Modify the function get_customer_orders so it prompts the user to enter the number of customer orders and gathers the product names using a loop and user input. Use comprehension."
   ]
  },
  {
   "cell_type": "code",
   "execution_count": 45,
   "id": "27fa2b30-33dd-443e-906a-8919b8c73db5",
   "metadata": {},
   "outputs": [
    {
     "name": "stdin",
     "output_type": "stream",
     "text": [
      "Enter the product name:  pen\n",
      "Do you want to enter another product? Press 'y' to add, else press any other key:  n\n"
     ]
    },
    {
     "data": {
      "text/plain": [
       "{'pen'}"
      ]
     },
     "execution_count": 45,
     "metadata": {},
     "output_type": "execute_result"
    }
   ],
   "source": [
    "def get_customer_orders() -> set:\n",
    "    customer_orders_set = {input(\"Enter the product name: \")}  # Start with the first input\n",
    "    while input(\"Do you want to enter another product? Press 'y' to add, else press any other key: \") == 'y':\n",
    "        customer_orders_set = customer_orders_set.union({input(\"Enter the product name: \")})  # Using union()\n",
    "    return customer_orders_set\n",
    "\n",
    "get_customer_orders()"
   ]
  },
  {
   "cell_type": "markdown",
   "id": "27e70dc1-586c-4ecf-bad7-685ee17166bc",
   "metadata": {},
   "source": [
    "#### 3.Add a new function to calculate the total price of the customer order. For each product in customer_orders, prompt the user to enter the price of that product. Use comprehension to calculate the total price. Note: assume that the user can only have 1 unit of each product."
   ]
  },
  {
   "cell_type": "code",
   "execution_count": 29,
   "id": "5e8f3f0e-fa90-434a-912c-3f01635c6c4b",
   "metadata": {},
   "outputs": [
    {
     "name": "stdin",
     "output_type": "stream",
     "text": [
      "Enter the product name:  pen\n",
      "Do you want to enter another product? Press 'y' to add, else press any other key:  y\n",
      "Enter the product name:  key\n",
      "Do you want to enter another product? Press 'y' to add, else press any other key:  n\n",
      "Enter the price for product pen 10\n",
      "Enter the price for product key 20\n"
     ]
    },
    {
     "data": {
      "text/plain": [
       "{'pen': '10', 'key': '20'}"
      ]
     },
     "execution_count": 29,
     "metadata": {},
     "output_type": "execute_result"
    }
   ],
   "source": [
    "def enter_Product_Price(products)->dict:\n",
    "    productPrice={}\n",
    "    for product in products:\n",
    "        productPrice[product]=input(f\"Enter the price for product {product}\")\n",
    "    return productPrice\n",
    "\n",
    "enter_Product_Price(get_customer_orders())"
   ]
  },
  {
   "cell_type": "markdown",
   "id": "8de455e2-16ba-495b-96b8-e20b54c93d79",
   "metadata": {},
   "source": [
    "#### 4.Modify the update_inventory function to remove the product from the inventory if its quantity becomes zero after fulfilling the customer orders. Use comprehension to filter out the products with a quantity of zero from the inventory."
   ]
  },
  {
   "cell_type": "code",
   "execution_count": 50,
   "id": "bbc15946-e6c4-45ff-80af-a5e79f6afac6",
   "metadata": {},
   "outputs": [
    {
     "data": {
      "text/plain": [
       "{'pen': 5}"
      ]
     },
     "execution_count": 50,
     "metadata": {},
     "output_type": "execute_result"
    }
   ],
   "source": [
    "def update_inventory(inventory, order):\n",
    "    for product, quantity in order.items():\n",
    "        if product in inventory:\n",
    "            inventory[product] -= quantity\n",
    "    inventory = {product: qty for product, qty in inventory.items() if qty > 0}\n",
    "    return inventory\n",
    "\n",
    "update_inventory({'pen': 10, 'key': 20},{'pen':5,'key':20})"
   ]
  },
  {
   "cell_type": "code",
   "execution_count": null,
   "id": "6853e689-e41e-49e2-831f-8fc1a34efcc1",
   "metadata": {},
   "outputs": [],
   "source": [
    "#Print the total price of the customer order"
   ]
  },
  {
   "cell_type": "code",
   "execution_count": 52,
   "id": "696f1d94-13b5-48f6-aab4-981786101c47",
   "metadata": {},
   "outputs": [
    {
     "name": "stdin",
     "output_type": "stream",
     "text": [
      "Enter the quantity of t-shirts available:   5\n",
      "Enter the quantity of mugs available:   5\n",
      "Enter the quantity of hats available:   5\n",
      "Enter the quantity of books available:   4\n",
      "Enter the quantity of keychains available:   1\n",
      "Enter the number of customer orders:   3\n",
      "Enter the name of a product that a customer wants to order:   keychains\n",
      "Enter the name of a product that a customer wants to order:   books\n",
      "Enter the name of a product that a customer wants to order:   mugs\n"
     ]
    },
    {
     "name": "stdout",
     "output_type": "stream",
     "text": [
      "\n",
      "Order Statistics:\n",
      "Total Products Ordered: 3\n",
      "Percentage of Unique Products Ordered: 100.0\n",
      "\n",
      "Updated Inventory:\n",
      "t-shirt: 5\n",
      "mug: 5\n",
      "hat: 5\n",
      "book: 4\n",
      "keychain: 1\n"
     ]
    },
    {
     "name": "stdin",
     "output_type": "stream",
     "text": [
      "Enter the price of books:   6\n",
      "Enter the price of keychains:   7\n",
      "Enter the price of mugs:   8\n"
     ]
    },
    {
     "name": "stdout",
     "output_type": "stream",
     "text": [
      "Total Price: 21.0\n"
     ]
    }
   ],
   "source": [
    "def update_inventory(inventory, order):\n",
    "    # Fulfill the order by decreasing the inventory quantity\n",
    "    for product in order:\n",
    "        if product in inventory:\n",
    "            inventory[product] -= 1\n",
    "\n",
    "    # Remove products with zero quantity using list comprehension\n",
    "    inventory = {product: qty for product, qty in inventory.items() if qty > 0}\n",
    "\n",
    "    return inventory\n",
    "\n",
    "\n",
    "# Input data for available quantities\n",
    "inventory = {\n",
    "    't-shirt': int(input(\"Enter the quantity of t-shirts available:  \")),\n",
    "    'mug': int(input(\"Enter the quantity of mugs available:  \")),\n",
    "    'hat': int(input(\"Enter the quantity of hats available:  \")),\n",
    "    'book': int(input(\"Enter the quantity of books available:  \")),\n",
    "    'keychain': int(input(\"Enter the quantity of keychains available:  \"))\n",
    "}\n",
    "\n",
    "# Input for customer orders\n",
    "num_orders = int(input(\"Enter the number of customer orders:  \"))\n",
    "orders = []\n",
    "for _ in range(num_orders):\n",
    "    product = input(\"Enter the name of a product that a customer wants to order:  \").lower()\n",
    "    orders.append(product)\n",
    "\n",
    "# Update inventory based on orders\n",
    "updated_inventory = update_inventory(inventory, orders)\n",
    "\n",
    "# Order statistics\n",
    "total_products_ordered = len(orders)\n",
    "unique_products_ordered = len(set(orders))\n",
    "percentage_unique = (unique_products_ordered / total_products_ordered) * 100 if total_products_ordered > 0 else 0\n",
    "\n",
    "# Display Order Statistics\n",
    "print(\"\\nOrder Statistics:\")\n",
    "print(f\"Total Products Ordered: {total_products_ordered}\")\n",
    "print(f\"Percentage of Unique Products Ordered: {percentage_unique:.1f}\")\n",
    "\n",
    "# Display updated inventory\n",
    "print(\"\\nUpdated Inventory:\")\n",
    "for product, quantity in updated_inventory.items():\n",
    "    print(f\"{product}: {quantity}\")\n",
    "\n",
    "# Input for product prices and calculate total price\n",
    "total_price = 0\n",
    "for product in set(orders):\n",
    "    price = float(input(f\"Enter the price of {product}:  \"))\n",
    "    total_price += price\n",
    "\n",
    "# Display the total price\n",
    "print(f\"Total Price: {total_price:.1f}\")\n"
   ]
  },
  {
   "cell_type": "code",
   "execution_count": null,
   "id": "314cf1ab-04d1-4c69-8551-293b6e42b7b7",
   "metadata": {},
   "outputs": [],
   "source": []
  }
 ],
 "metadata": {
  "kernelspec": {
   "display_name": "Python [conda env:workevt]",
   "language": "python",
   "name": "conda-env-workevt-py"
  },
  "language_info": {
   "codemirror_mode": {
    "name": "ipython",
    "version": 3
   },
   "file_extension": ".py",
   "mimetype": "text/x-python",
   "name": "python",
   "nbconvert_exporter": "python",
   "pygments_lexer": "ipython3",
   "version": "3.12.2"
  }
 },
 "nbformat": 4,
 "nbformat_minor": 5
}
